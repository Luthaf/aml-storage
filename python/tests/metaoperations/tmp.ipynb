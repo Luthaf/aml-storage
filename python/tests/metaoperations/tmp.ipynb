{
 "cells": [
  {
   "cell_type": "code",
   "execution_count": 4,
   "metadata": {},
   "outputs": [],
   "source": [
    "from equistore import io\n",
    "from utils import test_tensor_map, test_large_tensor_map\n",
    "\n",
    "tensor1 = test_tensor_map()\n",
    "tensor2 = test_large_tensor_map()\n",
    "tensor3 = io.load(\n",
    "    \"/Users/joe.abbott/Documents/phd/code/qml/equistore/python/tests/data/qm7-spherical-expansion.npz\",\n",
    "    use_numpy=True,\n",
    ")\n",
    "tensor = tensor1"
   ]
  },
  {
   "cell_type": "code",
   "execution_count": 5,
   "metadata": {},
   "outputs": [
    {
     "name": "stdout",
     "output_type": "stream",
     "text": [
      "[(0,) (2,) (4,)]\n",
      "[(0,) (1,) (3,)]\n",
      "[(0,) (3,) (6,) (8,)]\n",
      "[(0,) (1,) (2,) (5,)]\n"
     ]
    },
    {
     "data": {
      "text/plain": [
       "{0, 1, 2, 3, 4, 5, 6, 8}"
      ]
     },
     "execution_count": 5,
     "metadata": {},
     "output_type": "execute_result"
    }
   ],
   "source": [
    "i = []\n",
    "for b in tensor.blocks():\n",
    "    print(b.samples)\n",
    "    for s in b.samples:\n",
    "        i.append(s[0])\n",
    "set(i)"
   ]
  },
  {
   "cell_type": "code",
   "execution_count": 6,
   "metadata": {},
   "outputs": [
    {
     "name": "stdout",
     "output_type": "stream",
     "text": [
      "[(0,)]\n",
      "[(3,) (4,) (5,)]\n",
      "[(0,)]\n",
      "[(0,)]\n"
     ]
    },
    {
     "data": {
      "text/plain": [
       "{0, 3, 4, 5}"
      ]
     },
     "execution_count": 6,
     "metadata": {},
     "output_type": "execute_result"
    }
   ],
   "source": [
    "i = []\n",
    "for b in tensor.blocks():\n",
    "    print(b.properties)\n",
    "    for p in b.properties:\n",
    "        i.append(p[0])\n",
    "set(i)"
   ]
  },
  {
   "cell_type": "code",
   "execution_count": null,
   "metadata": {},
   "outputs": [],
   "source": []
  }
 ],
 "metadata": {
  "kernelspec": {
   "display_name": "dev",
   "language": "python",
   "name": "python3"
  },
  "language_info": {
   "codemirror_mode": {
    "name": "ipython",
    "version": 3
   },
   "file_extension": ".py",
   "mimetype": "text/x-python",
   "name": "python",
   "nbconvert_exporter": "python",
   "pygments_lexer": "ipython3",
   "version": "3.10.8"
  },
  "orig_nbformat": 4,
  "vscode": {
   "interpreter": {
    "hash": "451d25163c6aa03fa058d19e57a97e7b59d98897bbbde4dedaa5c368eaddbe45"
   }
  }
 },
 "nbformat": 4,
 "nbformat_minor": 2
}
