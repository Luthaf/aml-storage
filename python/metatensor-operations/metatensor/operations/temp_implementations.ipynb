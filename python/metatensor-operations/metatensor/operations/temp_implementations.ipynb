{
 "cells": [
  {
   "cell_type": "code",
   "execution_count": 24,
   "metadata": {},
   "outputs": [],
   "source": [
    "import metatensor as mts\n",
    "import numpy as np\n",
    "\n",
    "from _dispatch import is_contiguous_array, make_contiguous_array\n",
    "from metatensor import TensorMap, TensorBlock, Labels\n",
    "\n",
    "# 3. Do the same for make_contiguous{_block}\n",
    "\n",
    "tensor = mts.load(\"/Users/sanggyu/Research/metatensor/metatensor/python/metatensor-operations/tests/data/qm7-power-spectrum.npz\", use_numpy=True)"
   ]
  },
  {
   "cell_type": "code",
   "execution_count": 21,
   "metadata": {},
   "outputs": [],
   "source": [
    "def make_incontiguous_block(block: TensorBlock) -> TensorBlock:\n",
    "    \n",
    "    \"\"\"\n",
    "    Make a non-contiguous block by reversing the order in both the main value\n",
    "    block and the gradient block(s). \n",
    "    \n",
    "    TODO -- make it applicable to all blocks, not just blocks with more than one\n",
    "    row\n",
    "    \"\"\"\n",
    "    \n",
    "    new_block = TensorBlock(\n",
    "        values=block.values.copy()[::-1],\n",
    "        samples=block.samples,\n",
    "        components=block.components,\n",
    "        properties=block.properties,\n",
    "        )\n",
    "        # Make gradients non-contig\n",
    "    for param, gradient in block.gradients():\n",
    "        \n",
    "        new_gradient = TensorBlock(\n",
    "            values=gradient.values.copy()[::-1],\n",
    "            samples=gradient.samples,\n",
    "            components=gradient.components,\n",
    "            properties=gradient.properties,\n",
    "        )\n",
    "        new_block.add_gradient(param, new_gradient)\n",
    "            \n",
    "    return new_block"
   ]
  },
  {
   "cell_type": "code",
   "execution_count": 3,
   "metadata": {},
   "outputs": [],
   "source": [
    "def make_incontiguous(tensor: TensorMap) -> TensorMap:\n",
    "    \n",
    "    \"\"\"\n",
    "    Make a non-contiguous TensorMap by reversing the order in all the main value\n",
    "    blocks and the gradient blocks. \n",
    "    \"\"\"\n",
    "    \n",
    "    keys = tensor.keys\n",
    "    new_blocks = []\n",
    "    \n",
    "    for key, block in tensor.items():\n",
    "        # Create a new TM with a non-contig array\n",
    "        new_block = make_incontiguous_block(block)\n",
    "        new_blocks.append(new_block)\n",
    "    \n",
    "    return TensorMap(keys=keys, blocks=new_blocks)"
   ]
  },
  {
   "cell_type": "code",
   "execution_count": 4,
   "metadata": {},
   "outputs": [],
   "source": [
    "def is_contiguous_block(block: TensorBlock) -> bool:\n",
    "    \n",
    "    \"\"\"PUBLIC FUNCTION TO PUBLISH\"\"\"\n",
    "    \n",
    "    check_contiguous = True\n",
    "    if not is_contiguous_array(block.values):\n",
    "            check_contiguous = False\n",
    "    \n",
    "    return check_contiguous"
   ]
  },
  {
   "cell_type": "code",
   "execution_count": 5,
   "metadata": {},
   "outputs": [],
   "source": [
    "def is_contiguous(tensor: TensorMap) -> bool:\n",
    "    \n",
    "    \"\"\"PUBLIC FUNCTION TO PUBLISH\"\"\"\n",
    "    \n",
    "    check_contiguous = True\n",
    "    for key, block in tensor.items():\n",
    "        # Here, call another function: def is_contiguous_block(block: TensorBlock) -> bool\n",
    "        if not is_contiguous_block(block):\n",
    "            check_contiguous = False\n",
    "            \n",
    "        for param, gradient in block.gradients():\n",
    "            if not is_contiguous_block(gradient):\n",
    "                check_contiguous = False\n",
    "    \n",
    "    return check_contiguous"
   ]
  },
  {
   "cell_type": "code",
   "execution_count": 25,
   "metadata": {},
   "outputs": [],
   "source": [
    "def make_contiguous_block(block: TensorBlock) -> TensorBlock:\n",
    "    \n",
    "    \"\"\"PUBLIC FUNCTION TO PUBLISH\"\"\"\n",
    "    \n",
    "    contiguous_block = TensorBlock(\n",
    "        values=make_contiguous_array(block.values.copy()),\n",
    "        samples=block.samples,\n",
    "        components=block.components,\n",
    "        properties=block.properties,\n",
    "        )\n",
    "        # Make gradients non-contig\n",
    "    for param, gradient in block.gradients():\n",
    "\n",
    "        new_gradient = TensorBlock(\n",
    "            values=make_contiguous_array(gradient.values.copy()),\n",
    "            samples=gradient.samples,\n",
    "            components=gradient.components,\n",
    "            properties=gradient.properties,\n",
    "        )\n",
    "        contiguous_block.add_gradient(param, new_gradient)\n",
    "            \n",
    "    return contiguous_block"
   ]
  },
  {
   "cell_type": "code",
   "execution_count": 26,
   "metadata": {},
   "outputs": [],
   "source": [
    "def make_contiguous(tensor: TensorMap) -> TensorMap:\n",
    "    \n",
    "    \"\"\"PUBLIC FUNCTION TO PUBLISH\"\"\"\n",
    "    \n",
    "    keys = tensor.keys\n",
    "    contiguous_blocks = []\n",
    "    \n",
    "    for key, block in tensor.items():\n",
    "        # Create a new TM with a non-contig array\n",
    "        contiguous_block = make_contiguous_block(block)\n",
    "        contiguous_blocks.append(contiguous_block)\n",
    "    \n",
    "    return TensorMap(keys=keys, blocks=contiguous_blocks)\n"
   ]
  },
  {
   "cell_type": "code",
   "execution_count": 29,
   "metadata": {},
   "outputs": [],
   "source": [
    "incontig_tensor = make_incontiguous(tensor)\n",
    "assert is_contiguous(tensor)\n",
    "assert not is_contiguous(incontig_tensor)\n",
    "assert is_contiguous(make_contiguous(incontig_tensor))"
   ]
  },
  {
   "cell_type": "code",
   "execution_count": 30,
   "metadata": {},
   "outputs": [],
   "source": [
    "incontig_block = make_incontiguous_block(tensor.block(0))\n",
    "assert is_contiguous_block(tensor.block(0))\n",
    "assert not is_contiguous_block(incontig_block)\n",
    "assert is_contiguous_block(make_contiguous_block(incontig_block))"
   ]
  },
  {
   "cell_type": "code",
   "execution_count": null,
   "metadata": {},
   "outputs": [],
   "source": []
  }
 ],
 "metadata": {
  "kernelspec": {
   "display_name": "mts-dev",
   "language": "python",
   "name": "python3"
  },
  "language_info": {
   "codemirror_mode": {
    "name": "ipython",
    "version": 3
   },
   "file_extension": ".py",
   "mimetype": "text/x-python",
   "name": "python",
   "nbconvert_exporter": "python",
   "pygments_lexer": "ipython3",
   "version": "3.11.0"
  }
 },
 "nbformat": 4,
 "nbformat_minor": 2
}
